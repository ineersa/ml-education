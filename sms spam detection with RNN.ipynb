{
 "cells": [
  {
   "cell_type": "code",
   "execution_count": 1,
   "metadata": {},
   "outputs": [
    {
     "name": "stderr",
     "output_type": "stream",
     "text": [
      "Using TensorFlow backend.\n"
     ]
    }
   ],
   "source": [
    "from __future__ import print_function, division\n",
    "from builtins import range\n",
    "\n",
    "import os\n",
    "import sys\n",
    "import numpy as np\n",
    "import pandas as pd\n",
    "import matplotlib.pyplot as plt\n",
    "from keras.models import Model\n",
    "from keras.layers import Dense, Embedding, Input\n",
    "from keras.layers import LSTM, Bidirectional, GlobalMaxPool1D, Dropout\n",
    "from keras.preprocessing.text import Tokenizer\n",
    "from keras.preprocessing.sequence import pad_sequences\n",
    "from keras.optimizers import Adam\n",
    "from keras.utils import to_categorical\n",
    "from sklearn.metrics import roc_auc_score\n",
    "import seaborn as sns\n",
    "import matplotlib.pyplot as plt\n",
    "import string\n",
    "from nltk.corpus import stopwords\n",
    "from sklearn.metrics import accuracy_score\n",
    "\n",
    "sns.set(color_codes=True)\n",
    "%matplotlib inline"
   ]
  },
  {
   "cell_type": "code",
   "execution_count": 2,
   "metadata": {},
   "outputs": [],
   "source": [
    "MAX_SEQUENCE_LENGTH = 80\n",
    "MAX_VOCAB_SIZE = 20000\n",
    "EMBEDDING_DIM = 100\n",
    "VALIDATION_SPLIT = 0.2\n",
    "BATCH_SIZE = 128\n",
    "EPOCHS = 20"
   ]
  },
  {
   "cell_type": "code",
   "execution_count": 3,
   "metadata": {},
   "outputs": [
    {
     "name": "stdout",
     "output_type": "stream",
     "text": [
      "Loading word vectors...\n",
      "Found 400000 word vectors.\n"
     ]
    }
   ],
   "source": [
    "print('Loading word vectors...')\n",
    "word2vec = {}\n",
    "with open(os.path.join('../large_files/glove.6B/glove.6B.%sd.txt' % EMBEDDING_DIM)) as f:\n",
    "    # is just a space-separated text file in the format:\n",
    "    # word vec[0] vec[1] vec[2] ...\n",
    "    for line in f:\n",
    "        values = line.split()\n",
    "        word = values[0]\n",
    "        vec = np.asarray(values[1:], dtype='float32')\n",
    "        word2vec[word] = vec\n",
    "print('Found %s word vectors.' % len(word2vec))\n"
   ]
  },
  {
   "cell_type": "code",
   "execution_count": 4,
   "metadata": {},
   "outputs": [
    {
     "data": {
      "text/html": [
       "<div>\n",
       "<style scoped>\n",
       "    .dataframe tbody tr th:only-of-type {\n",
       "        vertical-align: middle;\n",
       "    }\n",
       "\n",
       "    .dataframe tbody tr th {\n",
       "        vertical-align: top;\n",
       "    }\n",
       "\n",
       "    .dataframe thead th {\n",
       "        text-align: right;\n",
       "    }\n",
       "</style>\n",
       "<table border=\"1\" class=\"dataframe\">\n",
       "  <thead>\n",
       "    <tr style=\"text-align: right;\">\n",
       "      <th></th>\n",
       "      <th>label</th>\n",
       "      <th>text</th>\n",
       "    </tr>\n",
       "  </thead>\n",
       "  <tbody>\n",
       "    <tr>\n",
       "      <th>0</th>\n",
       "      <td>ham</td>\n",
       "      <td>Go until jurong point, crazy.. Available only ...</td>\n",
       "    </tr>\n",
       "    <tr>\n",
       "      <th>1</th>\n",
       "      <td>ham</td>\n",
       "      <td>Ok lar... Joking wif u oni...</td>\n",
       "    </tr>\n",
       "    <tr>\n",
       "      <th>2</th>\n",
       "      <td>spam</td>\n",
       "      <td>Free entry in 2 a wkly comp to win FA Cup fina...</td>\n",
       "    </tr>\n",
       "    <tr>\n",
       "      <th>3</th>\n",
       "      <td>ham</td>\n",
       "      <td>U dun say so early hor... U c already then say...</td>\n",
       "    </tr>\n",
       "    <tr>\n",
       "      <th>4</th>\n",
       "      <td>ham</td>\n",
       "      <td>Nah I don't think he goes to usf, he lives aro...</td>\n",
       "    </tr>\n",
       "  </tbody>\n",
       "</table>\n",
       "</div>"
      ],
      "text/plain": [
       "  label                                               text\n",
       "0   ham  Go until jurong point, crazy.. Available only ...\n",
       "1   ham                      Ok lar... Joking wif u oni...\n",
       "2  spam  Free entry in 2 a wkly comp to win FA Cup fina...\n",
       "3   ham  U dun say so early hor... U c already then say...\n",
       "4   ham  Nah I don't think he goes to usf, he lives aro..."
      ]
     },
     "execution_count": 4,
     "metadata": {},
     "output_type": "execute_result"
    }
   ],
   "source": [
    "filename = '../large_files/spam.csv'\n",
    "df = pd.read_csv(filename, encoding='latin-1')\n",
    "df.columns = ['label', 'text', 'v3', 'v4', 'v5']\n",
    "df = df.drop(['v3','v4','v5'],axis=1)\n",
    "df.dropna()\n",
    "df.head()"
   ]
  },
  {
   "cell_type": "code",
   "execution_count": 5,
   "metadata": {},
   "outputs": [
    {
     "data": {
      "text/html": [
       "<div>\n",
       "<style scoped>\n",
       "    .dataframe tbody tr th:only-of-type {\n",
       "        vertical-align: middle;\n",
       "    }\n",
       "\n",
       "    .dataframe tbody tr th {\n",
       "        vertical-align: top;\n",
       "    }\n",
       "\n",
       "    .dataframe thead th {\n",
       "        text-align: right;\n",
       "    }\n",
       "</style>\n",
       "<table border=\"1\" class=\"dataframe\">\n",
       "  <thead>\n",
       "    <tr style=\"text-align: right;\">\n",
       "      <th></th>\n",
       "      <th>label</th>\n",
       "      <th>text</th>\n",
       "    </tr>\n",
       "  </thead>\n",
       "  <tbody>\n",
       "    <tr>\n",
       "      <th>0</th>\n",
       "      <td>1</td>\n",
       "      <td>Go until jurong point, crazy.. Available only ...</td>\n",
       "    </tr>\n",
       "    <tr>\n",
       "      <th>1</th>\n",
       "      <td>1</td>\n",
       "      <td>Ok lar... Joking wif u oni...</td>\n",
       "    </tr>\n",
       "    <tr>\n",
       "      <th>2</th>\n",
       "      <td>2</td>\n",
       "      <td>Free entry in 2 a wkly comp to win FA Cup fina...</td>\n",
       "    </tr>\n",
       "    <tr>\n",
       "      <th>3</th>\n",
       "      <td>1</td>\n",
       "      <td>U dun say so early hor... U c already then say...</td>\n",
       "    </tr>\n",
       "    <tr>\n",
       "      <th>4</th>\n",
       "      <td>1</td>\n",
       "      <td>Nah I don't think he goes to usf, he lives aro...</td>\n",
       "    </tr>\n",
       "  </tbody>\n",
       "</table>\n",
       "</div>"
      ],
      "text/plain": [
       "   label                                               text\n",
       "0      1  Go until jurong point, crazy.. Available only ...\n",
       "1      1                      Ok lar... Joking wif u oni...\n",
       "2      2  Free entry in 2 a wkly comp to win FA Cup fina...\n",
       "3      1  U dun say so early hor... U c already then say...\n",
       "4      1  Nah I don't think he goes to usf, he lives aro..."
      ]
     },
     "execution_count": 5,
     "metadata": {},
     "output_type": "execute_result"
    }
   ],
   "source": [
    "def process_label(label):\n",
    "    if label == 'ham':\n",
    "        return 1\n",
    "    else:\n",
    "        return 2\n",
    "    \n",
    "df['label'] = df['label'].apply(process_label)\n",
    "df.head()"
   ]
  },
  {
   "cell_type": "code",
   "execution_count": 6,
   "metadata": {},
   "outputs": [],
   "source": [
    "def text_process(text):\n",
    "    text = text.translate(str.maketrans('', '', string.punctuation))\n",
    "    text = [word for word in text.split() if word.lower() not in stopwords.words('english')]\n",
    "    \n",
    "    return \" \".join(text)"
   ]
  },
  {
   "cell_type": "code",
   "execution_count": 7,
   "metadata": {},
   "outputs": [],
   "source": [
    "text = df['text'].copy()\n",
    "text_feat = text.apply(text_process)"
   ]
  },
  {
   "cell_type": "code",
   "execution_count": 8,
   "metadata": {},
   "outputs": [
    {
     "name": "stdout",
     "output_type": "stream",
     "text": [
      "Loading in comments...\n"
     ]
    },
    {
     "data": {
      "text/plain": [
       "array([[0., 1., 0.],\n",
       "       [0., 1., 0.],\n",
       "       [0., 0., 1.],\n",
       "       ...,\n",
       "       [0., 1., 0.],\n",
       "       [0., 1., 0.],\n",
       "       [0., 1., 0.]], dtype=float32)"
      ]
     },
     "execution_count": 8,
     "metadata": {},
     "output_type": "execute_result"
    }
   ],
   "source": [
    "# prepare text samples and their labels\n",
    "print('Loading in comments...')\n",
    "sentences = text_feat.values\n",
    "targets = to_categorical(df[\"label\"].values)\n",
    "\n",
    "\n",
    "targets"
   ]
  },
  {
   "cell_type": "code",
   "execution_count": 9,
   "metadata": {},
   "outputs": [
    {
     "data": {
      "text/plain": [
       "[[9,\n",
       "  4243,\n",
       "  685,\n",
       "  603,\n",
       "  570,\n",
       "  1131,\n",
       "  38,\n",
       "  58,\n",
       "  259,\n",
       "  1132,\n",
       "  81,\n",
       "  2773,\n",
       "  1133,\n",
       "  15,\n",
       "  4244,\n",
       "  68],\n",
       " [10, 220, 1283, 342, 1, 1716]]"
      ]
     },
     "execution_count": 9,
     "metadata": {},
     "output_type": "execute_result"
    }
   ],
   "source": [
    "# convert the sentences (strings) into integers\n",
    "tokenizer = Tokenizer(num_words=MAX_VOCAB_SIZE)\n",
    "tokenizer.fit_on_texts(sentences)\n",
    "sequences = tokenizer.texts_to_sequences(sentences)\n",
    "\n",
    "sequences[:2]"
   ]
  },
  {
   "cell_type": "code",
   "execution_count": 10,
   "metadata": {},
   "outputs": [
    {
     "name": "stdout",
     "output_type": "stream",
     "text": [
      "max sequence length: 80\n",
      "min sequence length: 0\n",
      "median sequence length: 7\n"
     ]
    }
   ],
   "source": [
    "print(\"max sequence length:\", max(len(s) for s in sequences))\n",
    "print(\"min sequence length:\", min(len(s) for s in sequences))\n",
    "s = sorted(len(s) for s in sequences)\n",
    "print(\"median sequence length:\", s[len(s) // 2])"
   ]
  },
  {
   "cell_type": "code",
   "execution_count": 11,
   "metadata": {},
   "outputs": [
    {
     "name": "stdout",
     "output_type": "stream",
     "text": [
      "Found 9431 unique tokens.\n"
     ]
    }
   ],
   "source": [
    "# get word -> integer mapping\n",
    "word2idx = tokenizer.word_index\n",
    "print('Found %s unique tokens.' % len(word2idx))"
   ]
  },
  {
   "cell_type": "code",
   "execution_count": 12,
   "metadata": {},
   "outputs": [
    {
     "name": "stdout",
     "output_type": "stream",
     "text": [
      "Shape of data tensor: (5572, 80)\n",
      "[1 1 1 ... 1 1 1]\n"
     ]
    }
   ],
   "source": [
    "# pad sequences so that we get a N x T matrix\n",
    "data = pad_sequences(sequences, maxlen=MAX_SEQUENCE_LENGTH)\n",
    "from sklearn.model_selection import train_test_split\n",
    "X_train, X_test, y_train, y_test = train_test_split(data, targets, test_size=0.2, random_state=111)\n",
    "y_test_max = np.argmax(y_test, axis=1)\n",
    "print('Shape of data tensor:', data.shape)\n",
    "print(y_test_max)"
   ]
  },
  {
   "cell_type": "code",
   "execution_count": 13,
   "metadata": {},
   "outputs": [
    {
     "name": "stdout",
     "output_type": "stream",
     "text": [
      "Filling pre-trained embeddings...\n"
     ]
    }
   ],
   "source": [
    "# prepare embedding matrix\n",
    "print('Filling pre-trained embeddings...')\n",
    "num_words = min(MAX_VOCAB_SIZE, len(word2idx) + 1)\n",
    "embedding_matrix = np.zeros((num_words, EMBEDDING_DIM))\n",
    "for word, i in word2idx.items():\n",
    "    if i < MAX_VOCAB_SIZE:\n",
    "        embedding_vector = word2vec.get(word)\n",
    "        if embedding_vector is not None:\n",
    "            # words not found in embedding index will be all zeros.\n",
    "            embedding_matrix[i] = embedding_vector"
   ]
  },
  {
   "cell_type": "code",
   "execution_count": 14,
   "metadata": {},
   "outputs": [],
   "source": [
    "# load pre-trained word embeddings into an Embedding layer\n",
    "# note that we set trainable = False so as to keep the embeddings fixed\n",
    "embedding_layer = Embedding(\n",
    "    num_words,\n",
    "    EMBEDDING_DIM,\n",
    "    weights=[embedding_matrix],\n",
    "    input_length=MAX_SEQUENCE_LENGTH,\n",
    "    trainable=False\n",
    ")"
   ]
  },
  {
   "cell_type": "code",
   "execution_count": 15,
   "metadata": {},
   "outputs": [
    {
     "name": "stdout",
     "output_type": "stream",
     "text": [
      "WARNING:tensorflow:From /home/ineersa/PycharmProjects/iris/venv/lib/python3.7/site-packages/tensorflow/python/framework/op_def_library.py:263: colocate_with (from tensorflow.python.framework.ops) is deprecated and will be removed in a future version.\n",
      "Instructions for updating:\n",
      "Colocations handled automatically by placer.\n"
     ]
    }
   ],
   "source": [
    "# create an LSTM network with a single LSTM\n",
    "input_ = Input(shape=(MAX_SEQUENCE_LENGTH,))\n",
    "x = embedding_layer(input_)\n",
    "x = LSTM(128, return_sequences=True)(x)\n",
    "x = GlobalMaxPool1D()(x)\n",
    "output = Dense(3, activation=\"sigmoid\")(x)"
   ]
  },
  {
   "cell_type": "code",
   "execution_count": 16,
   "metadata": {},
   "outputs": [],
   "source": [
    "model = Model(input_, output)\n",
    "model.compile(\n",
    "  loss='categorical_crossentropy',\n",
    "  optimizer=Adam(lr=0.01),\n",
    "  metrics=['accuracy']\n",
    ")"
   ]
  },
  {
   "cell_type": "code",
   "execution_count": 17,
   "metadata": {},
   "outputs": [
    {
     "name": "stdout",
     "output_type": "stream",
     "text": [
      "Training model...\n",
      "WARNING:tensorflow:From /home/ineersa/PycharmProjects/iris/venv/lib/python3.7/site-packages/tensorflow/python/ops/math_ops.py:3066: to_int32 (from tensorflow.python.ops.math_ops) is deprecated and will be removed in a future version.\n",
      "Instructions for updating:\n",
      "Use tf.cast instead.\n",
      "WARNING:tensorflow:From /home/ineersa/PycharmProjects/iris/venv/lib/python3.7/site-packages/tensorflow/python/ops/math_grad.py:102: div (from tensorflow.python.ops.math_ops) is deprecated and will be removed in a future version.\n",
      "Instructions for updating:\n",
      "Deprecated in favor of operator or tf.math.divide.\n",
      "Train on 3565 samples, validate on 892 samples\n",
      "Epoch 1/20\n",
      "3565/3565 [==============================] - 6s 2ms/step - loss: 0.3638 - acc: 0.8614 - val_loss: 0.2617 - val_acc: 0.8655\n",
      "Epoch 2/20\n",
      "3565/3565 [==============================] - 5s 1ms/step - loss: 0.1917 - acc: 0.8656 - val_loss: 0.1758 - val_acc: 0.8655\n",
      "Epoch 3/20\n",
      "3565/3565 [==============================] - 5s 1ms/step - loss: 0.1514 - acc: 0.8656 - val_loss: 0.1607 - val_acc: 0.8655\n",
      "Epoch 4/20\n",
      "3565/3565 [==============================] - 5s 1ms/step - loss: 0.1354 - acc: 0.8656 - val_loss: 0.1579 - val_acc: 0.8655\n",
      "Epoch 5/20\n",
      "3565/3565 [==============================] - 5s 1ms/step - loss: 0.1239 - acc: 0.8721 - val_loss: 0.1555 - val_acc: 0.9070\n",
      "Epoch 6/20\n",
      "3565/3565 [==============================] - 5s 1ms/step - loss: 0.1249 - acc: 0.9122 - val_loss: 0.1614 - val_acc: 0.9484\n",
      "Epoch 7/20\n",
      "3565/3565 [==============================] - 5s 1ms/step - loss: 0.0698 - acc: 0.9781 - val_loss: 0.0989 - val_acc: 0.9641\n",
      "Epoch 8/20\n",
      "3565/3565 [==============================] - 5s 1ms/step - loss: 0.0341 - acc: 0.9885 - val_loss: 0.0838 - val_acc: 0.9742\n",
      "Epoch 9/20\n",
      "3565/3565 [==============================] - 7s 2ms/step - loss: 0.0209 - acc: 0.9941 - val_loss: 0.0864 - val_acc: 0.9742\n",
      "Epoch 10/20\n",
      "3565/3565 [==============================] - 8s 2ms/step - loss: 0.0118 - acc: 0.9975 - val_loss: 0.1033 - val_acc: 0.9731\n",
      "Epoch 11/20\n",
      "3565/3565 [==============================] - 5s 2ms/step - loss: 0.0069 - acc: 0.9989 - val_loss: 0.1355 - val_acc: 0.9664\n",
      "Epoch 12/20\n",
      "3565/3565 [==============================] - 5s 1ms/step - loss: 0.0055 - acc: 0.9989 - val_loss: 0.1150 - val_acc: 0.9709\n",
      "Epoch 13/20\n",
      "3565/3565 [==============================] - 6s 2ms/step - loss: 0.0037 - acc: 0.9994 - val_loss: 0.1181 - val_acc: 0.9720\n",
      "Epoch 14/20\n",
      "3565/3565 [==============================] - 5s 2ms/step - loss: 0.0031 - acc: 0.9994 - val_loss: 0.1218 - val_acc: 0.9731\n",
      "Epoch 15/20\n",
      "3565/3565 [==============================] - 5s 2ms/step - loss: 0.0029 - acc: 0.9994 - val_loss: 0.1343 - val_acc: 0.9709\n",
      "Epoch 16/20\n",
      "3565/3565 [==============================] - 6s 2ms/step - loss: 0.0025 - acc: 0.9994 - val_loss: 0.1231 - val_acc: 0.9742\n",
      "Epoch 17/20\n",
      "3565/3565 [==============================] - 6s 2ms/step - loss: 0.0022 - acc: 0.9994 - val_loss: 0.1256 - val_acc: 0.9776\n",
      "Epoch 18/20\n",
      "3565/3565 [==============================] - 5s 1ms/step - loss: 0.0019 - acc: 0.9994 - val_loss: 0.1293 - val_acc: 0.9765\n",
      "Epoch 19/20\n",
      "3565/3565 [==============================] - 5s 1ms/step - loss: 0.0017 - acc: 0.9994 - val_loss: 0.1344 - val_acc: 0.9765\n",
      "Epoch 20/20\n",
      "3565/3565 [==============================] - 5s 1ms/step - loss: 0.0017 - acc: 0.9994 - val_loss: 0.1417 - val_acc: 0.9753\n",
      "CPU times: user 4min 8s, sys: 10.8 s, total: 4min 19s\n",
      "Wall time: 1min 49s\n"
     ]
    }
   ],
   "source": [
    "%%time\n",
    "print('Training model...')\n",
    "r = model.fit(\n",
    "    X_train,\n",
    "    y_train,\n",
    "    batch_size=BATCH_SIZE,\n",
    "    epochs=EPOCHS,\n",
    "    validation_split=VALIDATION_SPLIT\n",
    ")"
   ]
  },
  {
   "cell_type": "code",
   "execution_count": 18,
   "metadata": {},
   "outputs": [
    {
     "data": {
      "image/png": "[encoded data removed]",
      "text/plain": [
       "<Figure size 432x288 with 1 Axes>"
      ]
     },
     "metadata": {
      "needs_background": "light"
     },
     "output_type": "display_data"
    }
   ],
   "source": [
    "# plot some data\n",
    "plt.plot(r.history['loss'], label='loss')\n",
    "plt.plot(r.history['val_loss'], label='val_loss')\n",
    "plt.legend()\n",
    "plt.show()"
   ]
  },
  {
   "cell_type": "code",
   "execution_count": 19,
   "metadata": {},
   "outputs": [
    {
     "data": {
      "image/png": "[encoded data removed]",
      "text/plain": [
       "<Figure size 432x288 with 1 Axes>"
      ]
     },
     "metadata": {
      "needs_background": "light"
     },
     "output_type": "display_data"
    }
   ],
   "source": [
    "# accuracies\n",
    "plt.plot(r.history['acc'], label='acc')\n",
    "plt.plot(r.history['val_acc'], label='val_acc')\n",
    "plt.legend()\n",
    "plt.show()"
   ]
  },
  {
   "cell_type": "code",
   "execution_count": 20,
   "metadata": {},
   "outputs": [
    {
     "name": "stdout",
     "output_type": "stream",
     "text": [
      "accuracy 0.9820627802690582\n"
     ]
    }
   ],
   "source": [
    "p = model.predict(X_test)\n",
    "predicted = np.argmax(p, axis=1)\n",
    "print('accuracy %s' % accuracy_score(y_test_max, predicted))"
   ]
  },
  {
   "cell_type": "code",
   "execution_count": 21,
   "metadata": {},
   "outputs": [],
   "source": [
    "# create an LSTM network with a Bidirectional LSTM\n",
    "input_ = Input(shape=(MAX_SEQUENCE_LENGTH,))\n",
    "x = embedding_layer(input_)\n",
    "x = Bidirectional(LSTM(128, return_sequences=True))(x)\n",
    "x = GlobalMaxPool1D()(x)\n",
    "output = Dense(3, activation=\"sigmoid\")(x)"
   ]
  },
  {
   "cell_type": "code",
   "execution_count": 22,
   "metadata": {},
   "outputs": [],
   "source": [
    "model = Model(input_, output)\n",
    "model.compile(\n",
    "  loss='categorical_crossentropy',\n",
    "  optimizer=Adam(lr=0.01),\n",
    "  metrics=['accuracy']\n",
    ")"
   ]
  },
  {
   "cell_type": "code",
   "execution_count": 27,
   "metadata": {},
   "outputs": [
    {
     "name": "stdout",
     "output_type": "stream",
     "text": [
      "Training model...\n",
      "Train on 3565 samples, validate on 892 samples\n",
      "Epoch 1/20\n",
      "3565/3565 [==============================] - 6s 2ms/step - loss: 0.0932 - acc: 0.9450 - val_loss: 0.1973 - val_acc: 0.9406\n",
      "Epoch 2/20\n",
      "3565/3565 [==============================] - 6s 2ms/step - loss: 0.0932 - acc: 0.9495 - val_loss: 0.1996 - val_acc: 0.9439\n",
      "Epoch 3/20\n",
      "3565/3565 [==============================] - 7s 2ms/step - loss: 0.0932 - acc: 0.9520 - val_loss: 0.2031 - val_acc: 0.9462\n",
      "Epoch 4/20\n",
      "3565/3565 [==============================] - 9s 2ms/step - loss: 0.0932 - acc: 0.9576 - val_loss: 0.2033 - val_acc: 0.9496\n",
      "Epoch 5/20\n",
      "3565/3565 [==============================] - 9s 2ms/step - loss: 0.0932 - acc: 0.9599 - val_loss: 0.2062 - val_acc: 0.9529\n",
      "Epoch 6/20\n",
      "3565/3565 [==============================] - 9s 2ms/step - loss: 0.0932 - acc: 0.9689 - val_loss: 0.2077 - val_acc: 0.9563\n",
      "Epoch 7/20\n",
      "3565/3565 [==============================] - 9s 3ms/step - loss: 0.0931 - acc: 0.9736 - val_loss: 0.2111 - val_acc: 0.9619\n",
      "Epoch 8/20\n",
      "3565/3565 [==============================] - 9s 2ms/step - loss: 0.0931 - acc: 0.9795 - val_loss: 0.2127 - val_acc: 0.9675\n",
      "Epoch 9/20\n",
      "3565/3565 [==============================] - 9s 2ms/step - loss: 0.0931 - acc: 0.9879 - val_loss: 0.2141 - val_acc: 0.9709\n",
      "Epoch 10/20\n",
      "3565/3565 [==============================] - 9s 2ms/step - loss: 0.1294 - acc: 0.9812 - val_loss: 0.1342 - val_acc: 0.9529\n",
      "Epoch 11/20\n",
      "3565/3565 [==============================] - 9s 2ms/step - loss: 0.0541 - acc: 0.9826 - val_loss: 0.0905 - val_acc: 0.9753\n",
      "Epoch 12/20\n",
      "3565/3565 [==============================] - 9s 2ms/step - loss: 0.0323 - acc: 0.9879 - val_loss: 0.0890 - val_acc: 0.9720\n",
      "Epoch 13/20\n",
      "3565/3565 [==============================] - 9s 2ms/step - loss: 0.0146 - acc: 0.9955 - val_loss: 0.0958 - val_acc: 0.9742\n",
      "Epoch 14/20\n",
      "3565/3565 [==============================] - 9s 2ms/step - loss: 0.0034 - acc: 0.9992 - val_loss: 0.0925 - val_acc: 0.9787\n",
      "Epoch 15/20\n",
      "3565/3565 [==============================] - 9s 2ms/step - loss: 8.4111e-04 - acc: 1.0000 - val_loss: 0.0942 - val_acc: 0.9787\n",
      "Epoch 16/20\n",
      "3565/3565 [==============================] - 8s 2ms/step - loss: 4.9972e-04 - acc: 1.0000 - val_loss: 0.0978 - val_acc: 0.9787\n",
      "Epoch 17/20\n",
      "3565/3565 [==============================] - 9s 3ms/step - loss: 3.8215e-04 - acc: 1.0000 - val_loss: 0.1001 - val_acc: 0.9787\n",
      "Epoch 18/20\n",
      "3565/3565 [==============================] - 10s 3ms/step - loss: 3.1665e-04 - acc: 1.0000 - val_loss: 0.1022 - val_acc: 0.9787\n",
      "Epoch 19/20\n",
      "3565/3565 [==============================] - 9s 3ms/step - loss: 2.7021e-04 - acc: 1.0000 - val_loss: 0.1041 - val_acc: 0.9787\n",
      "Epoch 20/20\n",
      "3565/3565 [==============================] - 9s 3ms/step - loss: 2.3386e-04 - acc: 1.0000 - val_loss: 0.1055 - val_acc: 0.9787\n",
      "CPU times: user 7min 54s, sys: 16.2 s, total: 8min 10s\n",
      "Wall time: 2min 49s\n"
     ]
    }
   ],
   "source": [
    "%%time\n",
    "print('Training model...')\n",
    "r = model.fit(\n",
    "    X_train,\n",
    "    y_train,\n",
    "    batch_size=BATCH_SIZE,\n",
    "    epochs=EPOCHS,\n",
    "    validation_split=VALIDATION_SPLIT\n",
    ")"
   ]
  },
  {
   "cell_type": "code",
   "execution_count": 28,
   "metadata": {},
   "outputs": [
    {
     "data": {
      "image/png": "[encoded data removed]",
      "text/plain": [
       "<Figure size 432x288 with 1 Axes>"
      ]
     },
     "metadata": {
      "needs_background": "light"
     },
     "output_type": "display_data"
    }
   ],
   "source": [
    "# plot some data\n",
    "plt.plot(r.history['loss'], label='loss')\n",
    "plt.plot(r.history['val_loss'], label='val_loss')\n",
    "plt.legend()\n",
    "plt.show()"
   ]
  },
  {
   "cell_type": "code",
   "execution_count": 29,
   "metadata": {},
   "outputs": [
    {
     "data": {
      "image/png": "[encoded data removed]",
      "text/plain": [
       "<Figure size 432x288 with 1 Axes>"
      ]
     },
     "metadata": {
      "needs_background": "light"
     },
     "output_type": "display_data"
    }
   ],
   "source": [
    "# accuracies\n",
    "plt.plot(r.history['acc'], label='acc')\n",
    "plt.plot(r.history['val_acc'], label='val_acc')\n",
    "plt.legend()\n",
    "plt.show()"
   ]
  },
  {
   "cell_type": "code",
   "execution_count": 30,
   "metadata": {},
   "outputs": [
    {
     "name": "stdout",
     "output_type": "stream",
     "text": [
      "accuracy 0.9811659192825112\n"
     ]
    }
   ],
   "source": [
    "p = model.predict(X_test)\n",
    "predicted = np.argmax(p, axis=1)\n",
    "print('accuracy %s' % accuracy_score(y_test_max, predicted))"
   ]
  },
  {
   "cell_type": "code",
   "execution_count": 31,
   "metadata": {},
   "outputs": [],
   "source": [
    "import itertools\n",
    "from sklearn.metrics import confusion_matrix\n",
    "\n",
    "def plot_confusion_matrix(cm, classes,\n",
    "                          normalize=False,\n",
    "                          title='Confusion matrix',\n",
    "                          cmap=plt.cm.Blues):\n",
    "    \"\"\"\n",
    "    This function prints and plots the confusion matrix.\n",
    "    Normalization can be applied by setting `normalize=True`.\n",
    "    \"\"\"\n",
    "    if normalize:\n",
    "        cm = cm.astype('float') / cm.sum(axis=1)[:, np.newaxis]\n",
    "        print(\"Normalized confusion matrix\")\n",
    "    else:\n",
    "        print('Confusion matrix, without normalization')\n",
    "\n",
    "    print(cm)\n",
    "\n",
    "    plt.imshow(cm, interpolation='nearest', cmap=cmap)\n",
    "    plt.title(title)\n",
    "    plt.colorbar()\n",
    "    tick_marks = np.arange(len(classes))\n",
    "    plt.xticks(tick_marks, classes, rotation=45)\n",
    "    plt.yticks(tick_marks, classes)\n",
    "\n",
    "    fmt = '.2f' if normalize else 'd'\n",
    "    thresh = cm.max() / 2.\n",
    "    for i, j in itertools.product(range(cm.shape[0]), range(cm.shape[1])):\n",
    "        plt.text(j, i, format(cm[i, j], fmt),\n",
    "                 horizontalalignment=\"center\",\n",
    "                 color=\"white\" if cm[i, j] > thresh else \"black\")\n",
    "\n",
    "    plt.ylabel('True label')\n",
    "    plt.xlabel('Predicted label')\n",
    "    plt.tight_layout()\n"
   ]
  },
  {
   "cell_type": "code",
   "execution_count": 36,
   "metadata": {},
   "outputs": [
    {
     "name": "stdout",
     "output_type": "stream",
     "text": [
      "Confusion matrix, without normalization\n",
      "[[963   4]\n",
      " [ 17 131]]\n",
      "Normalized confusion matrix\n",
      "[[1.   0.  ]\n",
      " [0.11 0.89]]\n"
     ]
    },
    {
     "data": {
      "image/png": "[encoded data removed]",
      "text/plain": [
       "<Figure size 432x288 with 2 Axes>"
      ]
     },
     "metadata": {
      "needs_background": "light"
     },
     "output_type": "display_data"
    },
    {
     "data": {
      "image/png": "[encoded data removed]",
      "text/plain": [
       "<Figure size 432x288 with 2 Axes>"
      ]
     },
     "metadata": {
      "needs_background": "light"
     },
     "output_type": "display_data"
    }
   ],
   "source": [
    "class_names=[1, 2]\n",
    "\n",
    "# Compute confusion matrix\n",
    "cnf_matrix = confusion_matrix(y_test_max, predicted, class_names)\n",
    "np.set_printoptions(precision=2)\n",
    "\n",
    "# Plot non-normalized confusion matrix\n",
    "plt.figure()\n",
    "plot_confusion_matrix(cnf_matrix, classes=class_names,\n",
    "                      title='Confusion matrix, without normalization')\n",
    "\n",
    "# Plot normalized confusion matrix\n",
    "plt.figure()\n",
    "plot_confusion_matrix(cnf_matrix, classes=class_names, normalize=True,\n",
    "                      title='Normalized confusion matrix')\n",
    "\n",
    "plt.show()"
   ]
  },
  {
   "cell_type": "code",
   "execution_count": null,
   "metadata": {},
   "outputs": [],
   "source": []
  }
 ],
 "metadata": {
  "kernelspec": {
   "display_name": "Python 3",
   "language": "python",
   "name": "python3"
  },
  "language_info": {
   "codemirror_mode": {
    "name": "ipython",
    "version": 3
   },
   "file_extension": ".py",
   "mimetype": "text/x-python",
   "name": "python",
   "nbconvert_exporter": "python",
   "pygments_lexer": "ipython3",
   "version": "3.7.2"
  }
 },
 "nbformat": 4,
 "nbformat_minor": 1
}
